{
 "cells": [
  {
   "cell_type": "code",
   "execution_count": 4,
   "metadata": {},
   "outputs": [
    {
     "name": "stdout",
     "output_type": "stream",
     "text": [
      "[]\n"
     ]
    }
   ],
   "source": [
    "import numpy as np\n",
    "import tensorflow as tf\n",
    "import tensorflow.keras as keras\n",
    "\n",
    "IMAGE_SHAPE = [94,24]\n",
    "CHARS = \"ABCDEFGHJKLMNPQRSTUVWXYZ0123456789\" # exclude I, O\n",
    "CHARS_DICT = {char:i for i, char in enumerate(CHARS)}\n",
    "DECODE_DICT = {i:char for i, char in enumerate(CHARS)}\n",
    "NUM_CLASS = len(CHARS)+1\n",
    "\n",
    "class small_basic_block(keras.layers.Layer):\n",
    "\n",
    "    def __init__(self,out_channels,name=None,**kwargs):\n",
    "        super().__init__(**kwargs)\n",
    "        out_div4=int(out_channels/4)\n",
    "        self.main_layers = [\n",
    "            keras.layers.Conv2D(out_div4,(1,1),padding='same',activation='relu'),\n",
    "            keras.layers.Conv2D(out_div4,(1,3),padding='same',activation='relu'),\n",
    "            keras.layers.Conv2D(out_div4,(3,1),padding='same',activation='relu'),\n",
    "            keras.layers.Conv2D(out_channels,(1,1),padding='same',activation='relu'),\n",
    "            keras.layers.BatchNormalization(),\n",
    "            keras.layers.ReLU()\n",
    "        ]\n",
    "    \n",
    "    def call(self,input):\n",
    "        x = input\n",
    "        for layer in self.main_layers:\n",
    "            x = layer(x)\n",
    "        return x\n",
    "\n",
    "class LPRnet(keras.Model):\n",
    "    def __init__(self, input_shape=(24,94,3), **kwargs):\n",
    "        super(LPRnet, self).__init__(**kwargs)\n",
    "        self.input_layer = keras.layers.Input(input_shape)\n",
    "        self.cnn_layers= [\n",
    "            keras.layers.Conv2D(64,(3,3),padding='same',name='main_conv1'),\n",
    "            keras.layers.BatchNormalization(name='BN1'),\n",
    "            keras.layers.ReLU(name='RELU1'),\n",
    "            keras.layers.MaxPool2D(pool_size=(3,3),strides=1,name='maxpool2d_1',padding='same'),\n",
    "            small_basic_block(128),\n",
    "            keras.layers.MaxPool2D(pool_size=(3,3),strides=(1,2),name='maxpool2d_2',padding='same'),\n",
    "            small_basic_block(256),\n",
    "            small_basic_block(256),\n",
    "            keras.layers.MaxPool2D(pool_size=(3,3),strides=(1,2),name='maxpool2d_3',padding='same'),\n",
    "            keras.layers.Dropout(0.5),\n",
    "            keras.layers.Conv2D(256,(1,4),strides=1,padding='same',name='main_conv2'),\n",
    "            keras.layers.Dropout(0.5),\n",
    "            keras.layers.Conv2D(NUM_CLASS,(13,1),padding='same',name='main_conv3'),  \n",
    "            keras.layers.BatchNormalization(),\n",
    "            keras.layers.ReLU(),\n",
    "        ]\n",
    "        self.out = self.call(self.input_layer)\n",
    "        super(LPRnet, self).__init__(\n",
    "            inputs=self.input_layer,\n",
    "            outputs=self.out,\n",
    "            **kwargs)\n",
    "\n",
    "    def call(self,inputs,training=False):\n",
    "        x = inputs\n",
    "        for layer in self.cnn_layers:\n",
    "            x = layer(x)\n",
    "        return x\n",
    "\n",
    "\n",
    "\n",
    "layer = small_basic_block(256)\n",
    "print(layer.weights)"
   ]
  },
  {
   "cell_type": "code",
   "execution_count": 5,
   "metadata": {},
   "outputs": [],
   "source": [
    "model = LPRnet()"
   ]
  },
  {
   "cell_type": "code",
   "execution_count": 6,
   "metadata": {},
   "outputs": [
    {
     "name": "stdout",
     "output_type": "stream",
     "text": [
      "Model: \"lp_rnet_3\"\n",
      "_________________________________________________________________\n",
      "Layer (type)                 Output Shape              Param #   \n",
      "=================================================================\n",
      "input_2 (InputLayer)         [(None, 24, 94, 3)]       0         \n",
      "_________________________________________________________________\n",
      "main_conv1 (Conv2D)          (None, 24, 94, 64)        1792      \n",
      "_________________________________________________________________\n",
      "BN1 (BatchNormalization)     (None, 24, 94, 64)        256       \n",
      "_________________________________________________________________\n",
      "RELU1 (ReLU)                 (None, 24, 94, 64)        0         \n",
      "_________________________________________________________________\n",
      "maxpool2d_1 (MaxPooling2D)   (None, 24, 94, 64)        0         \n",
      "_________________________________________________________________\n",
      "small_basic_block_5 (small_b (None, 24, 94, 128)       13024     \n",
      "_________________________________________________________________\n",
      "maxpool2d_2 (MaxPooling2D)   (None, 24, 47, 128)       0         \n",
      "_________________________________________________________________\n",
      "small_basic_block_6 (small_b (None, 24, 47, 256)       50624     \n",
      "_________________________________________________________________\n",
      "small_basic_block_7 (small_b (None, 24, 47, 256)       58816     \n",
      "_________________________________________________________________\n",
      "maxpool2d_3 (MaxPooling2D)   (None, 24, 24, 256)       0         \n",
      "_________________________________________________________________\n",
      "dropout_2 (Dropout)          (None, 24, 24, 256)       0         \n",
      "_________________________________________________________________\n",
      "main_conv2 (Conv2D)          (None, 24, 24, 256)       262400    \n",
      "_________________________________________________________________\n",
      "dropout_3 (Dropout)          (None, 24, 24, 256)       0         \n",
      "_________________________________________________________________\n",
      "main_conv3 (Conv2D)          (None, 24, 24, 35)        116515    \n",
      "_________________________________________________________________\n",
      "batch_normalization_9 (Batch (None, 24, 24, 35)        140       \n",
      "_________________________________________________________________\n",
      "re_lu_9 (ReLU)               (None, 24, 24, 35)        0         \n",
      "=================================================================\n",
      "Total params: 503,567\n",
      "Trainable params: 502,089\n",
      "Non-trainable params: 1,478\n",
      "_________________________________________________________________\n"
     ]
    }
   ],
   "source": [
    "model.summary()\n"
   ]
  },
  {
   "cell_type": "code",
   "execution_count": 4,
   "metadata": {},
   "outputs": [
    {
     "name": "stdout",
     "output_type": "stream",
     "text": [
      "[(None, 24, 94, 3)]\n",
      "(None, 24, 94, 64)\n",
      "(None, 24, 94, 64)\n",
      "(None, 24, 94, 64)\n",
      "(None, 22, 92, 64)\n",
      "(None, 22, 92, 128)\n",
      "(None, 10, 90, 128)\n",
      "(None, 10, 90, 256)\n",
      "(None, 10, 90, 256)\n",
      "(None, 4, 88, 256)\n",
      "(None, 4, 88, 256)\n",
      "(None, 4, 88, 256)\n",
      "(None, 4, 88, 256)\n",
      "(None, 4, 88, 35)\n",
      "(None, 4, 88, 35)\n",
      "(None, 4, 88, 35)\n"
     ]
    }
   ],
   "source": [
    "for layer in model.layers:\n",
    "    print(layer.output_shape)"
   ]
  },
  {
   "cell_type": "code",
   "execution_count": null,
   "metadata": {},
   "outputs": [],
   "source": []
  }
 ],
 "metadata": {
  "interpreter": {
   "hash": "83a3ba54cbd1f7dfc2d1ef373eda2962c312d1019df78bd28c6b3b15cf8d1ffd"
  },
  "kernelspec": {
   "display_name": "Python 3.8.0 64-bit",
   "language": "python",
   "name": "python3"
  },
  "language_info": {
   "codemirror_mode": {
    "name": "ipython",
    "version": 3
   },
   "file_extension": ".py",
   "mimetype": "text/x-python",
   "name": "python",
   "nbconvert_exporter": "python",
   "pygments_lexer": "ipython3",
   "version": "3.8.0"
  },
  "orig_nbformat": 4
 },
 "nbformat": 4,
 "nbformat_minor": 2
}
