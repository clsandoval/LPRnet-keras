{
 "cells": [
  {
   "cell_type": "code",
   "execution_count": 31,
   "metadata": {},
   "outputs": [],
   "source": [
    "from gen_plates_keras import ImageGenerator\n",
    "import cv2 \n",
    "import os, sys \n",
    "import numpy as np\n",
    "import glob\n",
    "pic1 = cv2.resize((cv2.imread(\"sample_plates/1.jpg\")),(320,230))\n",
    "pic2 = cv2.resize((cv2.imread(\"sample_plates/2.jpg\")),(320,230))\n",
    "pic3 = cv2.resize((cv2.imread(\"sample_plates/3.jpg\")),(320,230))\n",
    "pic4 = cv2.resize((cv2.imread(\"sample_plates/4.jpg\")),(320,230))\n"
   ]
  },
  {
   "cell_type": "code",
   "execution_count": 27,
   "metadata": {},
   "outputs": [
    {
     "data": {
      "text/plain": [
       "True"
      ]
     },
     "execution_count": 27,
     "metadata": {},
     "output_type": "execute_result"
    }
   ],
   "source": [
    "for img,v in enumerate(sample):\n",
    "    pic1 =  v * 255\n",
    "\n",
    "for img,v in enumerate(sample2):\n",
    "    pic =  v * 255\n",
    "    pic1 = np.concatenate((pic1,pic),axis=0)\n",
    "\n",
    "for img,v in enumerate(sample3):\n",
    "    pic2 =  v * 255\n",
    "\n",
    "for img,v in enumerate(sample4):\n",
    "    pic =  v * 255\n",
    "    pic2 = np.concatenate((pic2,pic),axis=0)\n",
    "\n",
    "\n",
    "pics = np.concatenate((pic1,pic2),axis=1)\n",
    "cv2.imwrite(\"sample_plates/1.png\".format(img),np.array(pics))"
   ]
  },
  {
   "cell_type": "code",
   "execution_count": 32,
   "metadata": {},
   "outputs": [],
   "source": [
    "pic1 = np.concatenate((pic1,pic2),axis=0)\n",
    "pic3  = np.concatenate((pic3,pic4),axis=0)"
   ]
  },
  {
   "cell_type": "code",
   "execution_count": 33,
   "metadata": {},
   "outputs": [
    {
     "data": {
      "text/plain": [
       "(460, 320, 3)"
      ]
     },
     "execution_count": 33,
     "metadata": {},
     "output_type": "execute_result"
    }
   ],
   "source": [
    "pic1.shape"
   ]
  },
  {
   "cell_type": "code",
   "execution_count": 34,
   "metadata": {},
   "outputs": [
    {
     "data": {
      "text/plain": [
       "True"
      ]
     },
     "execution_count": 34,
     "metadata": {},
     "output_type": "execute_result"
    }
   ],
   "source": [
    "pics =  np.concatenate((pic1,pic3),axis=1)\n",
    "cv2.imwrite(\"sample_plates/1.png\",np.array(pics))"
   ]
  },
  {
   "cell_type": "code",
   "execution_count": null,
   "metadata": {},
   "outputs": [],
   "source": []
  }
 ],
 "metadata": {
  "interpreter": {
   "hash": "83a3ba54cbd1f7dfc2d1ef373eda2962c312d1019df78bd28c6b3b15cf8d1ffd"
  },
  "kernelspec": {
   "display_name": "Python 3.8.0 64-bit",
   "language": "python",
   "name": "python3"
  },
  "language_info": {
   "codemirror_mode": {
    "name": "ipython",
    "version": 3
   },
   "file_extension": ".py",
   "mimetype": "text/x-python",
   "name": "python",
   "nbconvert_exporter": "python",
   "pygments_lexer": "ipython3",
   "version": "3.8.0"
  },
  "orig_nbformat": 4
 },
 "nbformat": 4,
 "nbformat_minor": 2
}
